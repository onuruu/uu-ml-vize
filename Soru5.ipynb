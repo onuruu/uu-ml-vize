{
  "nbformat": 4,
  "nbformat_minor": 0,
  "metadata": {
    "colab": {
      "provenance": []
    },
    "kernelspec": {
      "name": "python3",
      "display_name": "Python 3"
    },
    "language_info": {
      "name": "python"
    }
  },
  "cells": [
    {
      "cell_type": "code",
      "execution_count": null,
      "metadata": {
        "id": "l6Q6bkJgfSRC"
      },
      "outputs": [],
      "source": [
        "import numpy as np\n",
        "import pandas as pd\n",
        "import matplotlib.pyplot as plt\n",
        "from sklearn.model_selection import train_test_split\n",
        "\n",
        "veri = pd.read_csv(\"veri-seti.txt\", sep=\"\\t\", header=None)\n",
        "\n",
        "# SORU 5 #\n",
        "\n",
        "# Veri setinizi rastgele olarak %70 eğitim %30 test olacak şekilde ayırınız.\n",
        "X = veri[[0,1,2,3,4,5,6,7]]\n",
        "y = veri[[8]]\n",
        "\n",
        "X_train, X_test, y_train, y_test = train_test_split(X,y, test_size=0.3, random_state=57)\n",
        "\n",
        "\n",
        "# Eğitim veri seti için Naive bayes sınıflandırıcısını uygulayınız.\n",
        "from sklearn.naive_bayes import GaussianNB\n",
        "\n",
        "# Build a Gaussian Classifier\n",
        "model = GaussianNB()\n",
        "\n",
        "# Model training\n",
        "model.fit(X_train, y_train.values.ravel())\n",
        "\n",
        "# Elde ettiğiniz sonucları raporlayınız.\n",
        "# Test verisi için performans metriklerini hesaplayınız.\n",
        "\n",
        "from sklearn.metrics import (\n",
        "    accuracy_score,\n",
        "    confusion_matrix,\n",
        "    ConfusionMatrixDisplay,\n",
        "    f1_score,\n",
        ")\n",
        "\n",
        "y_pred = model.predict(X_test)\n",
        "accuray = accuracy_score(y_pred, y_test)\n",
        "f1 = f1_score(y_pred, y_test, average=\"weighted\")\n",
        "\n",
        "print(\"Accuracy:\", accuray)\n",
        "print(\"F1 Score:\", f1)\n",
        "\n",
        "labels = [0,1,2]\n",
        "cm = confusion_matrix(y_test, y_pred, labels=labels)\n",
        "disp = ConfusionMatrixDisplay(confusion_matrix=cm, display_labels=labels)\n",
        "disp.plot();"
      ]
    }
  ]
}